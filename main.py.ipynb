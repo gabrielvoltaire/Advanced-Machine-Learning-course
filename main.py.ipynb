{
 "cells": [
  {
   "cell_type": "code",
   "execution_count": null,
   "metadata": {},
   "outputs": [],
   "source": [
    "## Generate data\n",
    "X, y = make_blobs(n_samples=100, centers=3, n_features=2)"
   ]
  },
  {
   "cell_type": "code",
   "execution_count": 30,
   "metadata": {},
   "outputs": [],
   "source": [
    "with h5py.File('data/usps.h5', 'r') as hf:\n",
    "        train = hf.get('train')\n",
    "        X_tr = train.get('data')[:]\n",
    "        y_tr = train.get('target')[:]\n",
    "        test = hf.get('test')\n",
    "        X_te = test.get('data')[:]\n",
    "        y_test = test.get('target')[:]\n",
    "        \n",
    "        X_tr = X_tr[:2000]\n",
    "        y_train = y_tr[:2000]"
   ]
  },
  {
   "cell_type": "code",
   "execution_count": 2,
   "metadata": {},
   "outputs": [
    {
     "name": "stderr",
     "output_type": "stream",
     "text": [
      "/Library/Frameworks/Python.framework/Versions/3.7/lib/python3.7/site-packages/sklearn/cross_validation.py:41: DeprecationWarning: This module was deprecated in version 0.18 in favor of the model_selection module into which all the refactored classes and functions are moved. Also note that the interface of the new CV iterators are different from that of this module. This module will be removed in 0.20.\n",
      "  \"This module will be removed in 0.20.\", DeprecationWarning)\n"
     ]
    }
   ],
   "source": [
    "from sklearn.metrics.pairwise import rbf_kernel\n",
    "from sklearn.datasets.samples_generator import make_blobs\n",
    "from sklearn import svm\n",
    "from sklearn.metrics import accuracy_score, mean_squared_error\n",
    "from sklearn.datasets import fetch_20newsgroups, load_files\n",
    "from sklearn.cross_validation import train_test_split\n",
    "from sklearn.feature_extraction.text import TfidfVectorizer\n",
    "\n",
    "from scipy import sparse\n",
    "from stop_words import get_stop_words\n",
    "\n",
    "import itertools\n",
    "\n",
    "import matplotlib\n",
    "import matplotlib.pyplot as plt\n",
    "\n",
    "import numpy as np\n",
    "import h5py"
   ]
  },
  {
   "cell_type": "code",
   "execution_count": 3,
   "metadata": {},
   "outputs": [],
   "source": [
    "cats = ['comp.sys.mac.hardware', 'comp.windows.x']\n",
    "bunch1 = load_files('data/20news-bydate/20news-bydate-train', categories=cats)\n",
    "bunch2 = load_files('data/20news-bydate/20news-bydate-test', categories=cats)\n",
    "#print(bunch2.target)\n",
    "X_train = np.array(bunch1.data)\n",
    "X_test =  np.array(bunch2.data)\n",
    "y_train = np.array(bunch1.target)\n",
    "y_test = np.array(bunch2.target)"
   ]
  },
  {
   "cell_type": "code",
   "execution_count": 4,
   "metadata": {},
   "outputs": [],
   "source": [
    "vectorizer = TfidfVectorizer(decode_error='ignore', max_features=7511, stop_words='english')\n",
    "X_tr = vectorizer.fit_transform(X_train)\n",
    "X_te = vectorizer.transform(X_test)"
   ]
  },
  {
   "cell_type": "code",
   "execution_count": 28,
   "metadata": {},
   "outputs": [],
   "source": [
    "def transfer_func(x, kernel='linear', cut=None, t=None, n=0, i=0):\n",
    "    if kernel == 'linear':\n",
    "        return x\n",
    "    if kernel == 'step':\n",
    "        if i <= n + 10:\n",
    "            return 1\n",
    "        else:\n",
    "            return 0\n",
    "    if kernel=='poly-step':\n",
    "        if i <= n + 10:\n",
    "            return np.sqrt(x)\n",
    "        else:\n",
    "            return x**2\n",
    "    if kernel == 'lin-step':\n",
    "        if x >= cut:\n",
    "            return x\n",
    "        else:\n",
    "            return 0\n",
    "    if kernel == 'poly':\n",
    "        return np.power(x, t)"
   ]
  },
  {
   "cell_type": "code",
   "execution_count": 20,
   "metadata": {},
   "outputs": [],
   "source": [
    "## Compute RBF matrix K\n",
    "\n",
    "def calculate_K_hat(X, kernel='linear', t=None, cut=None, number_of_points=None):\n",
    "\n",
    "    K = rbf_kernel(X, gamma=1.65289)\n",
    "\n",
    "    ## 1. Compute D, the diagonal matrix whose elements are the sum of the rows of K\n",
    "    D = np.zeros(np.shape(K))\n",
    "\n",
    "    for i in range(np.shape(K)[0]):\n",
    "        D[i, i] = np.sum(K[i, :])\n",
    "\n",
    "    ## 2. Compute L\n",
    "    L = np.linalg.inv(np.sqrt(D)) @ K @ np.linalg.inv(np.sqrt(D))\n",
    "    eigenvals, eigenvects = np.linalg.eig(L)\n",
    "    Lambda = np.diag(eigenvals)\n",
    "    #l = eigenvects @ Lambda @ eigenvects.T\n",
    "\n",
    "    ## 3. Given transfer function, construct L_hat\n",
    "    new_eigenvals = np.zeros(np.shape(eigenvals)) # lamdba_hat_i\n",
    "\n",
    "    for i in range(np.shape(eigenvals)[0]):\n",
    "        new_eigenvals[i] = transfer_func(eigenvals[i], kernel=kernel, t=t, cut=cut, n=number_of_points, i=i)\n",
    "\n",
    "    lambda_hat = np.diag(new_eigenvals)\n",
    "    L_hat = eigenvects @ lambda_hat @ eigenvects.T\n",
    "\n",
    "    ## 4. Compute K_hat\n",
    "    a = np.array(L_hat)\n",
    "    L_hat2 = np.diag(np.diagonal(a))\n",
    "\n",
    "    D_hat = np.linalg.inv(L_hat2)\n",
    "    K_hat = np.sqrt(D_hat) @ L_hat @ np.sqrt(D_hat)\n",
    "\n",
    "    return K_hat"
   ]
  },
  {
   "cell_type": "code",
   "execution_count": 32,
   "metadata": {},
   "outputs": [],
   "source": [
    "def predict(nr_of_points, kernel_mtrx, X_test, X_train, y_train):\n",
    "    start_idx = np.random.randint(np.shape(kernel_mtrx)[0] - nr_of_points)\n",
    "    while True:                \n",
    "        clf = svm.SVC(kernel='precomputed')\n",
    "        try:      \n",
    "            clf.fit(kernel_mtrx[start_idx: start_idx + nr_of_points, start_idx: start_idx + nr_of_points], y_train[start_idx: start_idx + nr_of_points])\n",
    "            break\n",
    "        except ValueError:\n",
    "            start_idx += 1\n",
    "    \n",
    "    \n",
    "    #kernel_test = sparse.csr_matrix.todense(np.dot(X_test, X_train[start_idx : start_idx + nr_of_points].T))\n",
    "    kernel_test = np.dot(X_test, X_train[start_idx : start_idx + nr_of_points].T)\n",
    "    pred = clf.predict(kernel_test)\n",
    "    #print(\"pred:\", pred)\n",
    "    \n",
    "    return pred\n",
    "    "
   ]
  },
  {
   "cell_type": "code",
   "execution_count": 8,
   "metadata": {},
   "outputs": [],
   "source": [
    "def pop_and_average(idx, li, mse):\n",
    "    average = (li[idx] + mse) / 2\n",
    "    li[idx] = average\n",
    "    return li\n",
    "        "
   ]
  },
  {
   "cell_type": "code",
   "execution_count": 13,
   "metadata": {},
   "outputs": [],
   "source": [
    "def experiment(kernel, X_train, X_test, y_train, y_test, nr_of_points):\n",
    "\n",
    "    mse = 0\n",
    "    pred = predict(nr_of_points, kernel, X_test, X_train, y_train)\n",
    "    mse = mean_squared_error(y_test, pred)\n",
    "    \n",
    "    return mse"
   ]
  },
  {
   "cell_type": "code",
   "execution_count": 21,
   "metadata": {},
   "outputs": [],
   "source": [
    "def get_results(iterations):\n",
    "    lin_mses = np.zeros(7)\n",
    "    poly_mses = np.zeros(7)\n",
    "    step_mses = np.zeros(7)\n",
    "    poly_step_mses = np.zeros(7)\n",
    "    mses_count = [0, 0, 0, 0, 0, 0, 0]\n",
    "    nr_list = [2, 4, 8, 16, 32, 64, 128]\n",
    "\n",
    "    count = 0\n",
    "    for n in range(len(nr_list)):\n",
    "        for i in range(iterations):\n",
    "            nr_of_points = nr_list[n]\n",
    "\n",
    "            K_lin = calculate_K_hat(X_tr, kernel='linear')\n",
    "            K_poly = calculate_K_hat(X_tr, kernel='poly', t=5, number_of_points=nr_of_points)\n",
    "            K_step = calculate_K_hat(X_tr, kernel='step', number_of_points=nr_of_points)\n",
    "            K_poly_step = calculate_K_hat(X_tr, kernel='poly-step', number_of_points=nr_of_points)\n",
    "\n",
    "            lin_mse = experiment(K_lin, X_tr, X_te, y_train, y_test, nr_of_points)\n",
    "            step_mse = experiment(K_step, X_tr, X_te, y_train, y_test, nr_of_points)\n",
    "            poly_mse = experiment(K_poly, X_tr, X_te, y_train, y_test, nr_of_points)\n",
    "            poly_step_mse = experiment(K_poly_step, X_tr, X_te, y_train, y_test, nr_of_points)\n",
    "\n",
    "            lin_mses[count] = lin_mses[count] + lin_mse\n",
    "            poly_mses[count] = poly_mses[count] + poly_mse\n",
    "            step_mses[count] = step_mses[count] + step_mse\n",
    "            poly_step_mses[count] = poly_step_mses[count] + poly_step_mse\n",
    "\n",
    "        count += 1\n",
    "\n",
    "    # Mean    \n",
    "    lin_mses = lin_mses / iterations\n",
    "    poly_mses = poly_mses / iterations\n",
    "    step_mses = step_mses / iterations\n",
    "    poly_step_mses = poly_step_mses / iterations\n",
    "    \n",
    "    return nr_list, lin_mses, poly_mses, step_mses, poly_step_mses\n",
    "\n",
    "\n",
    "        \n",
    "#mses = [float(i)/sum(mses) for i in mses]\n"
   ]
  },
  {
   "cell_type": "code",
   "execution_count": 43,
   "metadata": {},
   "outputs": [
    {
     "data": {
      "image/png": "[encoded data removed]",
      "text/plain": [
       "<Figure size 432x288 with 1 Axes>"
      ]
     },
     "metadata": {
      "needs_background": "light"
     },
     "output_type": "display_data"
    }
   ],
   "source": [
    "#nr_list, lin_mses, poly_mses, step_mses, poly_step_mses = get_results(5)\n",
    "\n",
    "fig, ax = plt.subplots()\n",
    "#ax.plot(nr_list, lin_mses, 'r', label='Linear')\n",
    "#ax.plot(nr_list, poly_mses, 'g', label='Polynomial')\n",
    "#ax.plot(nr_list, step_mses, 'b', label='Step')\n",
    "ax.plot(nr_list, poly_step_mses, 'k', label='Poly-step')\n",
    "ax.legend(loc='upper right')\n",
    "plt.xticks(nr_list)\n",
    "#plt.ylim(0, 0.6)\n",
    "ax.set_xscale('log', basex=2)\n",
    "ax.set(xlabel='No of labeled points', ylabel='Test error')\n",
    "plt.savefig('usps_poly_step.png')\n",
    "plt.show()"
   ]
  },
  {
   "cell_type": "code",
   "execution_count": null,
   "metadata": {},
   "outputs": [],
   "source": []
  }
 ],
 "metadata": {
  "kernelspec": {
   "display_name": "Python 3",
   "language": "python",
   "name": "python3"
  },
  "language_info": {
   "codemirror_mode": {
    "name": "ipython",
    "version": 3
   },
   "file_extension": ".py",
   "mimetype": "text/x-python",
   "name": "python",
   "nbconvert_exporter": "python",
   "pygments_lexer": "ipython3",
   "version": "3.7.0"
  }
 },
 "nbformat": 4,
 "nbformat_minor": 2
}
